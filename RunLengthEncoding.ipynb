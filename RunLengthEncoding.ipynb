{
 "cells": [
  {
   "cell_type": "code",
   "execution_count": null,
   "metadata": {},
   "outputs": [],
   "source": [
    "# Run length encoding\n",
    "\n",
    "\n",
    "Example: \n",
    "I/P - [a,a,a,b,b,b,b,c,c,a,a]\n",
    "O/P - [a,3,b,4,c,2,a,2]\n",
    "\n",
    "1. iterate through the list and store the variable in a temp variable "
   ]
  },
  {
   "cell_type": "code",
   "execution_count": 166,
   "metadata": {},
   "outputs": [],
   "source": [
    "def rle(inputvals):\n",
    "    total = len(inputvals)-1\n",
    "    rlelist = []\n",
    "    count = 1\n",
    "    for i in range(len(inputvals)-1):\n",
    "        temp = inputvals[i]\n",
    "        if inputvals[i+1] == temp:\n",
    "            count +=1\n",
    "        else:\n",
    "            rlelist.append(temp)\n",
    "            rlelist.append(count)\n",
    "            count = 1\n",
    "            temp = inputvals[i+1]\n",
    "    rlelist.append(temp)\n",
    "    rlelist.append(count)\n",
    "    print(rlelist)"
   ]
  },
  {
   "cell_type": "code",
   "execution_count": 168,
   "metadata": {},
   "outputs": [
    {
     "name": "stdout",
     "output_type": "stream",
     "text": [
      "['a', 3, 'b', 4, 'c', 2, 'a', 1, 'z', 1]\n"
     ]
    }
   ],
   "source": [
    "rle(['a','a','a','b','b','b','b','c','c','a','z'])"
   ]
  },
  {
   "cell_type": "code",
   "execution_count": 163,
   "metadata": {},
   "outputs": [],
   "source": [
    "inputvals = ['a','a','a','b','b','b','b','c','c','a','z']"
   ]
  },
  {
   "cell_type": "code",
   "execution_count": 164,
   "metadata": {},
   "outputs": [],
   "source": [
    "temp = inputvals[0]\n",
    "count = 1\n",
    "result = []\n",
    "for i in inputvals[1:]:\n",
    "    if temp == i:\n",
    "        count += 1\n",
    "    else:\n",
    "        result.append(temp)\n",
    "        result.append(count)\n",
    "        count = 1\n",
    "    temp = i\n",
    "result.append(temp)\n",
    "result.append(count)    "
   ]
  },
  {
   "cell_type": "code",
   "execution_count": 156,
   "metadata": {},
   "outputs": [
    {
     "data": {
      "text/plain": [
       "['a', 3, 'b', 4, 'c', 2, 'a', 1, 'z', 1]"
      ]
     },
     "execution_count": 156,
     "metadata": {},
     "output_type": "execute_result"
    }
   ],
   "source": [
    "result"
   ]
  },
  {
   "cell_type": "code",
   "execution_count": 180,
   "metadata": {},
   "outputs": [],
   "source": [
    "# Decompressing \n",
    "\n",
    "def decompressRLElist(nums):\n",
    "    decompressed = []\n",
    "       \n",
    "    for i in range(len(nums)//2):\n",
    "        print(i)\n",
    "        frequency = nums[2*i]\n",
    "        print('freq',frequency)\n",
    "        value = nums[2*i+1]\n",
    "        print('val',value)\n",
    "            \n",
    "            \n",
    "        decompressed += [value]*frequency\n",
    "        \n",
    "      \n",
    "    return decompressed"
   ]
  },
  {
   "cell_type": "code",
   "execution_count": 181,
   "metadata": {},
   "outputs": [
    {
     "name": "stdout",
     "output_type": "stream",
     "text": [
      "0\n",
      "freq 1\n",
      "val 1\n",
      "1\n",
      "freq 2\n",
      "val 3\n"
     ]
    },
    {
     "data": {
      "text/plain": [
       "[1, 3, 3]"
      ]
     },
     "execution_count": 181,
     "metadata": {},
     "output_type": "execute_result"
    }
   ],
   "source": [
    "decompressRLElist([1,1,2,3])"
   ]
  },
  {
   "cell_type": "code",
   "execution_count": null,
   "metadata": {},
   "outputs": [],
   "source": []
  }
 ],
 "metadata": {
  "kernelspec": {
   "display_name": "Python 3",
   "language": "python",
   "name": "python3"
  },
  "language_info": {
   "codemirror_mode": {
    "name": "ipython",
    "version": 3
   },
   "file_extension": ".py",
   "mimetype": "text/x-python",
   "name": "python",
   "nbconvert_exporter": "python",
   "pygments_lexer": "ipython3",
   "version": "3.8.5"
  }
 },
 "nbformat": 4,
 "nbformat_minor": 4
}

{
 "cells": [
  {
   "cell_type": "code",
   "execution_count": null,
   "metadata": {},
   "outputs": [],
   "source": [
    "# Input: nums = [7,1,5,4] Output: 4\n",
    "\n",
    "# The maximum difference occurs with i = 1 and j = 2, nums[j] - nums[i] = 5 - 1 = 4.\n",
    "# with i = 1 and j = 0, the difference nums[j] - nums[i] = 7 - 1 = 6, but i > j, so it is not valid."
   ]
  },
  {
   "cell_type": "code",
   "execution_count": 41,
   "metadata": {},
   "outputs": [],
   "source": [
    "def maxDiff(nums):\n",
    "    temp = -1\n",
    "    for j in range(len(nums)-1,-1,-1):\n",
    "        for i in range(j-1,-1,-1):\n",
    "#             print('j',j)\n",
    "#             print('i',i)\n",
    "#             print(nums[j],'this is nums[j]')\n",
    "#             print(nums[i],'this is nums[i]')\n",
    "            maxDiff = nums[j]-nums[i]\n",
    "            temp = max(temp,maxDiff)\n",
    "    if temp == 0:\n",
    "        return -1 #mentioned in the question that if no such i and j exists return -1\n",
    "    return temp"
   ]
  },
  {
   "cell_type": "code",
   "execution_count": 37,
   "metadata": {},
   "outputs": [
    {
     "name": "stdout",
     "output_type": "stream",
     "text": [
      "j 3\n",
      "i 2\n",
      "4 this is nums[j]\n",
      "5 this is nums[i]\n",
      "j 3\n",
      "i 1\n",
      "4 this is nums[j]\n",
      "1 this is nums[i]\n",
      "j 3\n",
      "i 0\n",
      "4 this is nums[j]\n",
      "7 this is nums[i]\n",
      "j 2\n",
      "i 1\n",
      "5 this is nums[j]\n",
      "1 this is nums[i]\n",
      "j 2\n",
      "i 0\n",
      "5 this is nums[j]\n",
      "7 this is nums[i]\n",
      "j 1\n",
      "i 0\n",
      "1 this is nums[j]\n",
      "7 this is nums[i]\n"
     ]
    },
    {
     "data": {
      "text/plain": [
       "4"
      ]
     },
     "execution_count": 37,
     "metadata": {},
     "output_type": "execute_result"
    }
   ],
   "source": [
    "maxDiff([7,1,5,4])"
   ]
  },
  {
   "cell_type": "code",
   "execution_count": 38,
   "metadata": {},
   "outputs": [
    {
     "name": "stdout",
     "output_type": "stream",
     "text": [
      "j 3\n",
      "i 2\n",
      "2 this is nums[j]\n",
      "3 this is nums[i]\n",
      "j 3\n",
      "i 1\n",
      "2 this is nums[j]\n",
      "4 this is nums[i]\n",
      "j 3\n",
      "i 0\n",
      "2 this is nums[j]\n",
      "9 this is nums[i]\n",
      "j 2\n",
      "i 1\n",
      "3 this is nums[j]\n",
      "4 this is nums[i]\n",
      "j 2\n",
      "i 0\n",
      "3 this is nums[j]\n",
      "9 this is nums[i]\n",
      "j 1\n",
      "i 0\n",
      "4 this is nums[j]\n",
      "9 this is nums[i]\n"
     ]
    },
    {
     "data": {
      "text/plain": [
       "-1"
      ]
     },
     "execution_count": 38,
     "metadata": {},
     "output_type": "execute_result"
    }
   ],
   "source": [
    "maxDiff([9,4,3,2])"
   ]
  },
  {
   "cell_type": "code",
   "execution_count": 39,
   "metadata": {},
   "outputs": [
    {
     "name": "stdout",
     "output_type": "stream",
     "text": [
      "j 3\n",
      "i 2\n",
      "10 this is nums[j]\n",
      "2 this is nums[i]\n",
      "j 3\n",
      "i 1\n",
      "10 this is nums[j]\n",
      "5 this is nums[i]\n",
      "j 3\n",
      "i 0\n",
      "10 this is nums[j]\n",
      "1 this is nums[i]\n",
      "j 2\n",
      "i 1\n",
      "2 this is nums[j]\n",
      "5 this is nums[i]\n",
      "j 2\n",
      "i 0\n",
      "2 this is nums[j]\n",
      "1 this is nums[i]\n",
      "j 1\n",
      "i 0\n",
      "5 this is nums[j]\n",
      "1 this is nums[i]\n"
     ]
    },
    {
     "data": {
      "text/plain": [
       "9"
      ]
     },
     "execution_count": 39,
     "metadata": {},
     "output_type": "execute_result"
    }
   ],
   "source": [
    "maxDiff([1,5,2,10])"
   ]
  },
  {
   "cell_type": "code",
   "execution_count": 42,
   "metadata": {},
   "outputs": [
    {
     "data": {
      "text/plain": [
       "0"
      ]
     },
     "execution_count": 42,
     "metadata": {},
     "output_type": "execute_result"
    }
   ],
   "source": [
    "maxDiff([999,997,980,976,948,940,938,928,924,917,907,907,881,878,864,862,859,857,848,840,824,\n",
    "  824,824,805,802,798,788,777,775,766,755,748,735,732,727,705,700,697,693,679,676,644,\n",
    "  634,624,599,596,588,583,562,558,553,539,537,536,509,491,485,483,454,449,438,425,403,\n",
    "  368,345,327,287,285,270,263,255,248,235,234,224,221,201,189,187,183,179,168,155,153,\n",
    "  150,144,107,102,102,87,80,57,55,49,48,45,26,26,23,15])"
   ]
  },
  {
   "cell_type": "code",
   "execution_count": null,
   "metadata": {},
   "outputs": [],
   "source": []
  }
 ],
 "metadata": {
  "kernelspec": {
   "display_name": "Python 3",
   "language": "python",
   "name": "python3"
  },
  "language_info": {
   "codemirror_mode": {
    "name": "ipython",
    "version": 3
   },
   "file_extension": ".py",
   "mimetype": "text/x-python",
   "name": "python",
   "nbconvert_exporter": "python",
   "pygments_lexer": "ipython3",
   "version": "3.8.5"
  }
 },
 "nbformat": 4,
 "nbformat_minor": 4
}
